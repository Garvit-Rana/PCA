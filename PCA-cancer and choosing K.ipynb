{
 "cells": [
  {
   "cell_type": "code",
   "execution_count": 1,
   "metadata": {
    "ExecuteTime": {
     "end_time": "2019-06-19T06:59:36.188379Z",
     "start_time": "2019-06-19T06:59:33.840712Z"
    }
   },
   "outputs": [],
   "source": [
    "from sklearn import decomposition,linear_model,datasets\n",
    "import numpy as np\n",
    "import time\n",
    "from sklearn.preprocessing import StandardScaler\n",
    "from sklearn.model_selection import train_test_split"
   ]
  },
  {
   "cell_type": "code",
   "execution_count": 2,
   "metadata": {
    "ExecuteTime": {
     "end_time": "2019-06-19T06:59:36.278468Z",
     "start_time": "2019-06-19T06:59:36.198380Z"
    }
   },
   "outputs": [],
   "source": [
    "data=datasets.load_breast_cancer()\n"
   ]
  },
  {
   "cell_type": "code",
   "execution_count": 3,
   "metadata": {
    "ExecuteTime": {
     "end_time": "2019-06-19T06:59:36.379509Z",
     "start_time": "2019-06-19T06:59:36.289445Z"
    }
   },
   "outputs": [
    {
     "data": {
      "text/plain": [
       "(569, 30)"
      ]
     },
     "execution_count": 3,
     "metadata": {},
     "output_type": "execute_result"
    }
   ],
   "source": [
    "x=data.data\n",
    "y=data.target\n",
    "x.shape"
   ]
  },
  {
   "cell_type": "code",
   "execution_count": 4,
   "metadata": {
    "ExecuteTime": {
     "end_time": "2019-06-19T06:59:36.500595Z",
     "start_time": "2019-06-19T06:59:36.392519Z"
    }
   },
   "outputs": [
    {
     "data": {
      "text/plain": [
       "(143, 30)"
      ]
     },
     "execution_count": 4,
     "metadata": {},
     "output_type": "execute_result"
    }
   ],
   "source": [
    "sc=StandardScaler()\n",
    "x_s=sc.fit_transform(x)\n",
    "xtrain,xtest,ytrain,ytest=train_test_split(x_s,y,random_state=0)\n",
    "xtest.shape"
   ]
  },
  {
   "cell_type": "code",
   "execution_count": 5,
   "metadata": {
    "ExecuteTime": {
     "end_time": "2019-06-19T06:59:36.605699Z",
     "start_time": "2019-06-19T06:59:36.515606Z"
    }
   },
   "outputs": [],
   "source": [
    "pca=decomposition.PCA()\n",
    "x_t=pca.fit_transform(xtrain)\n"
   ]
  },
  {
   "cell_type": "code",
   "execution_count": 6,
   "metadata": {
    "ExecuteTime": {
     "end_time": "2019-06-19T06:59:36.766784Z",
     "start_time": "2019-06-19T06:59:36.618678Z"
    }
   },
   "outputs": [
    {
     "data": {
      "text/plain": [
       "array([1.30274684e+01, 5.81556555e+00, 2.85848795e+00, 1.91901713e+00,\n",
       "       1.70021491e+00, 1.20663908e+00, 6.53337152e-01, 4.26738474e-01,\n",
       "       4.26450541e-01, 3.45589858e-01, 3.08054910e-01, 2.56054468e-01,\n",
       "       2.28152003e-01, 1.43262745e-01, 9.26283031e-02, 7.80260477e-02,\n",
       "       6.13812037e-02, 5.26182531e-02, 4.50933578e-02, 3.08275366e-02,\n",
       "       3.03277956e-02, 2.51390631e-02, 2.12226717e-02, 1.77427715e-02,\n",
       "       1.63886382e-02, 7.83681541e-03, 6.61084728e-03, 1.45257891e-03,\n",
       "       7.98794510e-04, 1.11908784e-04])"
      ]
     },
     "execution_count": 6,
     "metadata": {},
     "output_type": "execute_result"
    }
   ],
   "source": [
    "pca.explained_variance_"
   ]
  },
  {
   "cell_type": "code",
   "execution_count": 7,
   "metadata": {
    "ExecuteTime": {
     "end_time": "2019-06-19T06:59:36.917892Z",
     "start_time": "2019-06-19T06:59:36.782795Z"
    }
   },
   "outputs": [
    {
     "data": {
      "text/plain": [
       "10"
      ]
     },
     "execution_count": 7,
     "metadata": {},
     "output_type": "execute_result"
    }
   ],
   "source": [
    "total=pca.explained_variance_.sum()\n",
    "current=0\n",
    "k=0\n",
    "while current/total<0.95:\n",
    "    current+=pca.explained_variance_[k]\n",
    "    k=k+1\n",
    "k    "
   ]
  },
  {
   "cell_type": "code",
   "execution_count": 8,
   "metadata": {
    "ExecuteTime": {
     "end_time": "2019-06-19T06:59:37.072001Z",
     "start_time": "2019-06-19T06:59:36.934902Z"
    }
   },
   "outputs": [],
   "source": [
    "pca=decomposition.PCA(n_components=k)\n",
    "xtrain_pca=pca.fit_transform(xtrain)\n",
    "xtest_pca=pca.transform(xtest)\n"
   ]
  },
  {
   "cell_type": "code",
   "execution_count": 9,
   "metadata": {
    "ExecuteTime": {
     "end_time": "2019-06-19T06:59:37.254130Z",
     "start_time": "2019-06-19T06:59:37.100022Z"
    }
   },
   "outputs": [
    {
     "name": "stdout",
     "output_type": "stream",
     "text": [
      "0.020013093948364258\n",
      "0.965034965034965\n"
     ]
    }
   ],
   "source": [
    "clf=linear_model.LogisticRegression()\n",
    "st=time.time()\n",
    "clf.fit(xtrain,ytrain)\n",
    "en=time.time()\n",
    "print(en-st)\n",
    "print(clf.score(xtest,ytest))"
   ]
  },
  {
   "cell_type": "code",
   "execution_count": 10,
   "metadata": {
    "ExecuteTime": {
     "end_time": "2019-06-19T06:59:37.352199Z",
     "start_time": "2019-06-19T06:59:37.281149Z"
    }
   },
   "outputs": [
    {
     "name": "stdout",
     "output_type": "stream",
     "text": [
      "0.012006282806396484\n",
      "0.958041958041958\n"
     ]
    }
   ],
   "source": [
    "clf=linear_model.LogisticRegression()\n",
    "st=time.time()\n",
    "clf.fit(xtrain_pca,ytrain)\n",
    "en=time.time()\n",
    "print(en-st)\n",
    "print(clf.score(xtest_pca,ytest))"
   ]
  },
  {
   "cell_type": "code",
   "execution_count": null,
   "metadata": {},
   "outputs": [],
   "source": []
  }
 ],
 "metadata": {
  "hide_input": false,
  "kernelspec": {
   "display_name": "Python 3",
   "language": "python",
   "name": "python3"
  },
  "language_info": {
   "codemirror_mode": {
    "name": "ipython",
    "version": 3
   },
   "file_extension": ".py",
   "mimetype": "text/x-python",
   "name": "python",
   "nbconvert_exporter": "python",
   "pygments_lexer": "ipython3",
   "version": "3.6.5"
  },
  "toc": {
   "base_numbering": 1,
   "nav_menu": {},
   "number_sections": true,
   "sideBar": true,
   "skip_h1_title": false,
   "title_cell": "Table of Contents",
   "title_sidebar": "Contents",
   "toc_cell": false,
   "toc_position": {},
   "toc_section_display": true,
   "toc_window_display": false
  }
 },
 "nbformat": 4,
 "nbformat_minor": 2
}
